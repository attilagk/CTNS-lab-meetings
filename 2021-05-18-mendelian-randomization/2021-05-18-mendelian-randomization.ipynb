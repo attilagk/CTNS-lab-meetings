{
 "cells": [
  {
   "cell_type": "markdown",
   "id": "computational-chocolate",
   "metadata": {},
   "source": [
    "Illustrating confounding and the effect of randomization on estimating effect of X on Y.  I generate a simulated dataset of three variables: confounder $U$, exposure $X$ and outcome $Y$.  These are interconnected in the directed acyclic graph (DAG) of a Bayesian network."
   ]
  },
  {
   "cell_type": "code",
   "execution_count": 1,
   "id": "returning-following",
   "metadata": {},
   "outputs": [],
   "source": [
    "%load_ext autoreload\n",
    "%autoreload 2\n",
    "%reload_ext autoreload\n",
    "import pandas as pd\n",
    "import numpy as np\n",
    "import seaborn as sns\n",
    "from matplotlib import pyplot as plt\n",
    "import re\n",
    "import attila_utils\n",
    "%matplotlib inline"
   ]
  },
  {
   "cell_type": "markdown",
   "id": "northern-conditioning",
   "metadata": {},
   "source": [
    "Assumptions for the confounded model\n",
    "* $Y \\leftarrow U \\rightarrow X \\rightarrow Y$: a Bayesian network with three nodes and three edges\n",
    "* $U$ was sampled from a normal distribution: $U \\sim \\mathcal{N}(0, S_U)$ \n",
    "* $U \\rightarrow X$ is a linear dependency: $X = \\beta_{UX} U + \\epsilon_X$, where $\\epsilon_X \\sim \\mathcal{N}(0, S_X)$ \n",
    "* $X \\rightarrow Y$ and $U \\rightarrow Y$ are also linear dependencies so that $Y = \\beta_{XY} X + \\beta_{UY} U + \\epsilon_Y$ where $\\epsilon_Y \\sim \\mathcal{N}(0, S_Y)$\n",
    "* $\\epsilon_X$ and $\\epsilon_Y$ are independent\n",
    "\n",
    "Assumptions for the randomized model\n",
    "* $U \\rightarrow X$ as before\n",
    "* $X$ was permuted randomly to get $X_\\mathrm{perm}$; note that no blocking was done therefore the error of $\\beta_{XY}$ is large\n",
    "* $U \\rightarrow Y \\leftarrow X_\\mathrm{perm}$ so that $Y = \\beta_{XY} X_\\mathrm{perm} + \\beta_{UY} U + \\epsilon_Y$; note that $X$ and $U$ are conditionally independent given $Y$"
   ]
  },
  {
   "cell_type": "code",
   "execution_count": 2,
   "id": "liquid-difficulty",
   "metadata": {},
   "outputs": [],
   "source": [
    "def generate_X(u, beta_ux, sdev=1):\n",
    "    n = len(u)\n",
    "    eps = np.random.randn(n) * sdev\n",
    "    x = beta_ux * u + eps\n",
    "    return(x)"
   ]
  },
  {
   "cell_type": "code",
   "execution_count": 3,
   "id": "automotive-peoples",
   "metadata": {},
   "outputs": [],
   "source": [
    "def generate_Y(u, x, beta_uy, beta_xy, sdev=1):\n",
    "    n = len(u)\n",
    "    if n != len(x):\n",
    "        raise(ValueError)\n",
    "    eps = np.random.randn(n) * sdev\n",
    "    y = beta_uy * u + beta_xy * x + eps\n",
    "    return(y)"
   ]
  },
  {
   "cell_type": "markdown",
   "id": "forced-ceremony",
   "metadata": {},
   "source": [
    "The parameters of the model are set below.  Note that $\\beta_{UX} > 0$ and $\\beta_{UY} > 0$ but $\\beta_{XY} < 0$.  This means that both $U \\rightarrow X$ and $U \\rightarrow Y$ are positive effects but $X \\rightarrow Y$ is a negative effect"
   ]
  },
  {
   "cell_type": "code",
   "execution_count": 4,
   "id": "weird-pollution",
   "metadata": {},
   "outputs": [],
   "source": [
    "n = 100\n",
    "S_u = 10\n",
    "S_x = 2\n",
    "S_y = 1\n",
    "beta_ux = 1\n",
    "beta_uy = 1.5\n",
    "beta_xy = -1\n",
    "\n",
    "def main(n=n, S_u=S_u, S_x=S_x, beta_ux=beta_ux, beta_uy=beta_uy, beta_xy=beta_xy):\n",
    "    u = np.random.randn(n) * S_u\n",
    "    x = generate_X(u=u, beta_ux=beta_ux, sdev=S_x)\n",
    "    x_randomized = np.random.permutation(u)\n",
    "    y = generate_Y(u=u, x=x, beta_uy=beta_uy, beta_xy=beta_xy, sdev=S_y)\n",
    "    y_randomized = generate_Y(u=u, x=x_randomized, beta_uy=beta_uy, beta_xy=beta_xy, sdev=S_y)\n",
    "    val = pd.DataFrame({'u': u, 'x': x, 'x_randomized': x_randomized, 'y': y, 'y_randomized': y_randomized})\n",
    "    return(val)\n",
    "\n",
    "data = main()"
   ]
  },
  {
   "cell_type": "markdown",
   "id": "chronic-texas",
   "metadata": {},
   "source": [
    "First we plot $X$ vs $Y$ without randomization.  Even though the true $\\beta_{XY} < 0$ the estimate $\\hat{\\beta}_{XY} > 0$ because the slope of the fitted line is positive.  In other words $\\hat{\\beta}_{XY}$ is heavily biased."
   ]
  },
  {
   "cell_type": "code",
   "execution_count": 5,
   "id": "silent-mining",
   "metadata": {},
   "outputs": [
    {
     "data": {
      "text/plain": [
       "['named-figure/regrplot-confounded.png',\n",
       " 'named-figure/regrplot-confounded.pdf']"
      ]
     },
     "execution_count": 5,
     "metadata": {},
     "output_type": "execute_result"
    },
    {
     "data": {
      "image/png": "[encoded data removed]",
      "text/plain": [
       "<Figure size 216x216 with 1 Axes>"
      ]
     },
     "metadata": {
      "needs_background": "light"
     },
     "output_type": "display_data"
    }
   ],
   "source": [
    "%matplotlib inline\n",
    "def myplot(data, randomized):\n",
    "    if randomized:\n",
    "        which_x = 'x_randomized'\n",
    "        which_y = 'y_randomized'\n",
    "    else:\n",
    "        which_x = 'x'\n",
    "        which_y = 'y'\n",
    "    fig, ax = plt.subplots(1, figsize=(3, 3))\n",
    "    g = sns.regplot(x=which_x, y=which_y, data=data, ax=ax)\n",
    "    lim = 30\n",
    "    ax.set_xlim(- lim, lim)\n",
    "    ax.set_ylim(- lim, lim)\n",
    "    ax.set_xlabel('$X$')\n",
    "    ax.set_ylabel('$Y$')\n",
    "    return(fig)\n",
    "\n",
    "fig = myplot(data, randomized=False)\n",
    "attila_utils.savefig(fig, 'regrplot-confounded')"
   ]
  },
  {
   "cell_type": "markdown",
   "id": "bridal-order",
   "metadata": {},
   "source": [
    "Next the same kind of plot with randomization.  Recall that the true $\\beta_{XY} = -1$.  We see that $\\hat{\\beta}_{XY} \\approx -1$ so randomization did indeed remove the bias from $\\hat{\\beta}_{XY}$."
   ]
  },
  {
   "cell_type": "code",
   "execution_count": 6,
   "id": "female-apache",
   "metadata": {},
   "outputs": [
    {
     "data": {
      "text/plain": [
       "['named-figure/regrplot-randomized.png',\n",
       " 'named-figure/regrplot-randomized.pdf']"
      ]
     },
     "execution_count": 6,
     "metadata": {},
     "output_type": "execute_result"
    },
    {
     "data": {
      "image/png": "[encoded data removed]",
      "text/plain": [
       "<Figure size 216x216 with 1 Axes>"
      ]
     },
     "metadata": {
      "needs_background": "light"
     },
     "output_type": "display_data"
    }
   ],
   "source": [
    "fig = myplot(data, randomized=True)\n",
    "attila_utils.savefig(fig, 'regrplot-randomized')"
   ]
  },
  {
   "cell_type": "code",
   "execution_count": 7,
   "id": "later-blackjack",
   "metadata": {},
   "outputs": [
    {
     "name": "stdout",
     "output_type": "stream",
     "text": [
      "{\n",
      "  \"shell_port\": 55117,\n",
      "  \"iopub_port\": 56861,\n",
      "  \"stdin_port\": 55575,\n",
      "  \"control_port\": 38587,\n",
      "  \"hb_port\": 45599,\n",
      "  \"ip\": \"127.0.0.1\",\n",
      "  \"key\": \"bf445195-b8440148185f8a46da01a1be\",\n",
      "  \"transport\": \"tcp\",\n",
      "  \"signature_scheme\": \"hmac-sha256\",\n",
      "  \"kernel_name\": \"\"\n",
      "}\n",
      "\n",
      "Paste the above JSON into a file, and connect with:\n",
      "    $> jupyter <app> --existing <file>\n",
      "or, if you are local, you can connect with just:\n",
      "    $> jupyter <app> --existing kernel-ac568c9f-1a5e-4d60-a268-5732e43d4c92.json\n",
      "or even just:\n",
      "    $> jupyter <app> --existing\n",
      "if this is the most recent Jupyter kernel you have started.\n"
     ]
    }
   ],
   "source": [
    "%connect_info"
   ]
  },
  {
   "cell_type": "code",
   "execution_count": null,
   "id": "instructional-wildlife",
   "metadata": {},
   "outputs": [],
   "source": []
  }
 ],
 "metadata": {
  "kernelspec": {
   "display_name": "Python 3",
   "language": "python",
   "name": "python3"
  },
  "language_info": {
   "codemirror_mode": {
    "name": "ipython",
    "version": 3
   },
   "file_extension": ".py",
   "mimetype": "text/x-python",
   "name": "python",
   "nbconvert_exporter": "python",
   "pygments_lexer": "ipython3",
   "version": "3.7.6"
  }
 },
 "nbformat": 4,
 "nbformat_minor": 5
}
