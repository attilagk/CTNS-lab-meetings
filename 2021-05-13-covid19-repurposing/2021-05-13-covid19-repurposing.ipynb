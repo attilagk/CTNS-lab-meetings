{
 "cells": [
  {
   "cell_type": "markdown",
   "id": "unique-stylus",
   "metadata": {},
   "source": [
    "Analysis related to [Gaziano et al 2021 Nat Medicine](https://www.nature.com/articles/s41591-021-01310-z)"
   ]
  },
  {
   "cell_type": "code",
   "execution_count": 1,
   "id": "false-being",
   "metadata": {},
   "outputs": [],
   "source": [
    "%load_ext autoreload\n",
    "%autoreload 2\n",
    "%reload_ext autoreload\n",
    "import pandas as pd\n",
    "from matplotlib import pyplot as plt\n",
    "import attila_utils\n",
    "%matplotlib inline"
   ]
  },
  {
   "cell_type": "code",
   "execution_count": 2,
   "id": "decreased-constitution",
   "metadata": {},
   "outputs": [
    {
     "data": {
      "text/html": [
       "<div>\n",
       "<style scoped>\n",
       "    .dataframe tbody tr th:only-of-type {\n",
       "        vertical-align: middle;\n",
       "    }\n",
       "\n",
       "    .dataframe tbody tr th {\n",
       "        vertical-align: top;\n",
       "    }\n",
       "\n",
       "    .dataframe thead th {\n",
       "        text-align: right;\n",
       "    }\n",
       "</style>\n",
       "<table border=\"1\" class=\"dataframe\">\n",
       "  <thead>\n",
       "    <tr style=\"text-align: right;\">\n",
       "      <th></th>\n",
       "      <th></th>\n",
       "      <th>beta</th>\n",
       "      <th>S.E.</th>\n",
       "      <th>P value</th>\n",
       "      <th>Phet</th>\n",
       "      <th>Variants in instrument</th>\n",
       "    </tr>\n",
       "    <tr>\n",
       "      <th>Gene</th>\n",
       "      <th>Tissue</th>\n",
       "      <th></th>\n",
       "      <th></th>\n",
       "      <th></th>\n",
       "      <th></th>\n",
       "      <th></th>\n",
       "    </tr>\n",
       "  </thead>\n",
       "  <tbody>\n",
       "    <tr>\n",
       "      <th rowspan=\"2\" valign=\"top\">IL10RB</th>\n",
       "      <th>Muscle_Skeletal</th>\n",
       "      <td>0.507797</td>\n",
       "      <td>0.066536</td>\n",
       "      <td>2.310000e-14</td>\n",
       "      <td>0.967637</td>\n",
       "      <td>rs2300370, rs2834167</td>\n",
       "    </tr>\n",
       "    <tr>\n",
       "      <th>Nerve_Tibial</th>\n",
       "      <td>0.285943</td>\n",
       "      <td>0.038412</td>\n",
       "      <td>9.760000e-14</td>\n",
       "      <td>0.005242</td>\n",
       "      <td>rs13050728, rs2834167, rs2266590</td>\n",
       "    </tr>\n",
       "    <tr>\n",
       "      <th>CCR1</th>\n",
       "      <th>Cells_Cultured_fibroblasts</th>\n",
       "      <td>0.444895</td>\n",
       "      <td>0.061197</td>\n",
       "      <td>3.600000e-13</td>\n",
       "      <td>NaN</td>\n",
       "      <td>rs13095940</td>\n",
       "    </tr>\n",
       "    <tr>\n",
       "      <th rowspan=\"2\" valign=\"top\">IL10RB</th>\n",
       "      <th>Brain_Nucleus_accumbens_basal_ganglia</th>\n",
       "      <td>0.254135</td>\n",
       "      <td>0.036310</td>\n",
       "      <td>2.580000e-12</td>\n",
       "      <td>0.001873</td>\n",
       "      <td>rs2834167, rs17860115</td>\n",
       "    </tr>\n",
       "    <tr>\n",
       "      <th>Brain_Caudate_basal_ganglia</th>\n",
       "      <td>0.263504</td>\n",
       "      <td>0.039809</td>\n",
       "      <td>3.610000e-11</td>\n",
       "      <td>0.000285</td>\n",
       "      <td>rs2834167, rs1051393</td>\n",
       "    </tr>\n",
       "    <tr>\n",
       "      <th>...</th>\n",
       "      <th>...</th>\n",
       "      <td>...</td>\n",
       "      <td>...</td>\n",
       "      <td>...</td>\n",
       "      <td>...</td>\n",
       "      <td>...</td>\n",
       "    </tr>\n",
       "    <tr>\n",
       "      <th>RRM1</th>\n",
       "      <th>Stomach</th>\n",
       "      <td>0.000000</td>\n",
       "      <td>0.119109</td>\n",
       "      <td>1.000000e+00</td>\n",
       "      <td>NaN</td>\n",
       "      <td>rs11030967</td>\n",
       "    </tr>\n",
       "    <tr>\n",
       "      <th>CXCR2</th>\n",
       "      <th>Whole_Blood</th>\n",
       "      <td>0.000000</td>\n",
       "      <td>0.221924</td>\n",
       "      <td>1.000000e+00</td>\n",
       "      <td>NaN</td>\n",
       "      <td>rs6436032</td>\n",
       "    </tr>\n",
       "    <tr>\n",
       "      <th rowspan=\"2\" valign=\"top\">IFNGR2</th>\n",
       "      <th>Muscle_Skeletal</th>\n",
       "      <td>0.000000</td>\n",
       "      <td>0.104493</td>\n",
       "      <td>1.000000e+00</td>\n",
       "      <td>NaN</td>\n",
       "      <td>rs2284553</td>\n",
       "    </tr>\n",
       "    <tr>\n",
       "      <th>Pancreas</th>\n",
       "      <td>0.000000</td>\n",
       "      <td>0.073004</td>\n",
       "      <td>1.000000e+00</td>\n",
       "      <td>NaN</td>\n",
       "      <td>rs2284553</td>\n",
       "    </tr>\n",
       "    <tr>\n",
       "      <th>EGLN2</th>\n",
       "      <th>Artery_Tibial</th>\n",
       "      <td>0.000000</td>\n",
       "      <td>0.150632</td>\n",
       "      <td>1.000000e+00</td>\n",
       "      <td>NaN</td>\n",
       "      <td>rs11547373</td>\n",
       "    </tr>\n",
       "  </tbody>\n",
       "</table>\n",
       "<p>8130 rows × 5 columns</p>\n",
       "</div>"
      ],
      "text/plain": [
       "                                                  beta      S.E.  \\\n",
       "Gene   Tissue                                                      \n",
       "IL10RB Muscle_Skeletal                        0.507797  0.066536   \n",
       "       Nerve_Tibial                           0.285943  0.038412   \n",
       "CCR1   Cells_Cultured_fibroblasts             0.444895  0.061197   \n",
       "IL10RB Brain_Nucleus_accumbens_basal_ganglia  0.254135  0.036310   \n",
       "       Brain_Caudate_basal_ganglia            0.263504  0.039809   \n",
       "...                                                ...       ...   \n",
       "RRM1   Stomach                                0.000000  0.119109   \n",
       "CXCR2  Whole_Blood                            0.000000  0.221924   \n",
       "IFNGR2 Muscle_Skeletal                        0.000000  0.104493   \n",
       "       Pancreas                               0.000000  0.073004   \n",
       "EGLN2  Artery_Tibial                          0.000000  0.150632   \n",
       "\n",
       "                                                   P value      Phet  \\\n",
       "Gene   Tissue                                                          \n",
       "IL10RB Muscle_Skeletal                        2.310000e-14  0.967637   \n",
       "       Nerve_Tibial                           9.760000e-14  0.005242   \n",
       "CCR1   Cells_Cultured_fibroblasts             3.600000e-13       NaN   \n",
       "IL10RB Brain_Nucleus_accumbens_basal_ganglia  2.580000e-12  0.001873   \n",
       "       Brain_Caudate_basal_ganglia            3.610000e-11  0.000285   \n",
       "...                                                    ...       ...   \n",
       "RRM1   Stomach                                1.000000e+00       NaN   \n",
       "CXCR2  Whole_Blood                            1.000000e+00       NaN   \n",
       "IFNGR2 Muscle_Skeletal                        1.000000e+00       NaN   \n",
       "       Pancreas                               1.000000e+00       NaN   \n",
       "EGLN2  Artery_Tibial                          1.000000e+00       NaN   \n",
       "\n",
       "                                                        Variants in instrument  \n",
       "Gene   Tissue                                                                   \n",
       "IL10RB Muscle_Skeletal                                    rs2300370, rs2834167  \n",
       "       Nerve_Tibial                           rs13050728, rs2834167, rs2266590  \n",
       "CCR1   Cells_Cultured_fibroblasts                                   rs13095940  \n",
       "IL10RB Brain_Nucleus_accumbens_basal_ganglia             rs2834167, rs17860115  \n",
       "       Brain_Caudate_basal_ganglia                        rs2834167, rs1051393  \n",
       "...                                                                        ...  \n",
       "RRM1   Stomach                                                      rs11030967  \n",
       "CXCR2  Whole_Blood                                                   rs6436032  \n",
       "IFNGR2 Muscle_Skeletal                                               rs2284553  \n",
       "       Pancreas                                                      rs2284553  \n",
       "EGLN2  Artery_Tibial                                                rs11547373  \n",
       "\n",
       "[8130 rows x 5 columns]"
      ]
     },
     "execution_count": 2,
     "metadata": {},
     "output_type": "execute_result"
    }
   ],
   "source": [
    "ST7 = pd.read_csv('gaziano-2021-ST7.csv', delimiter='\\t', skiprows=2, index_col=['Gene', 'Tissue'])\n",
    "ST7"
   ]
  },
  {
   "cell_type": "markdown",
   "id": "extended-revolution",
   "metadata": {},
   "source": [
    "Examine how many variants there are in an instrumental variable (instrument) across all gene-tissue pairs"
   ]
  },
  {
   "cell_type": "code",
   "execution_count": 3,
   "id": "sticky-silly",
   "metadata": {},
   "outputs": [
    {
     "data": {
      "text/plain": [
       "['named-figure/ST7-hist.png', 'named-figure/ST7-hist.pdf']"
      ]
     },
     "execution_count": 3,
     "metadata": {},
     "output_type": "execute_result"
    },
    {
     "data": {
      "image/png": "[encoded data removed]",
      "text/plain": [
       "<Figure size 432x288 with 1 Axes>"
      ]
     },
     "metadata": {
      "needs_background": "light"
     },
     "output_type": "display_data"
    }
   ],
   "source": [
    "s = ST7['Variants in instrument']\n",
    "fig, ax = plt.subplots()\n",
    "s.str.split(', ').apply(lambda x: len(x)).hist(ax=ax)\n",
    "ax.grid(axis='x')\n",
    "ax.set_xlabel('# variants in instrument')\n",
    "ax.set_ylabel('# gene-tissue pairs')\n",
    "attila_utils.savefig(fig, 'ST7-hist')"
   ]
  },
  {
   "cell_type": "code",
   "execution_count": 4,
   "id": "automatic-spell",
   "metadata": {},
   "outputs": [
    {
     "name": "stdout",
     "output_type": "stream",
     "text": [
      "{\n",
      "  \"shell_port\": 47999,\n",
      "  \"iopub_port\": 52293,\n",
      "  \"stdin_port\": 48795,\n",
      "  \"control_port\": 39123,\n",
      "  \"hb_port\": 37913,\n",
      "  \"ip\": \"127.0.0.1\",\n",
      "  \"key\": \"bb0c8d2d-bfcba0a05192420abbf0897e\",\n",
      "  \"transport\": \"tcp\",\n",
      "  \"signature_scheme\": \"hmac-sha256\",\n",
      "  \"kernel_name\": \"\"\n",
      "}\n",
      "\n",
      "Paste the above JSON into a file, and connect with:\n",
      "    $> jupyter <app> --existing <file>\n",
      "or, if you are local, you can connect with just:\n",
      "    $> jupyter <app> --existing kernel-7dcc6b63-e22b-41f0-957e-1b99729a129d.json\n",
      "or even just:\n",
      "    $> jupyter <app> --existing\n",
      "if this is the most recent Jupyter kernel you have started.\n"
     ]
    }
   ],
   "source": [
    "%connect_info"
   ]
  },
  {
   "cell_type": "code",
   "execution_count": null,
   "id": "gentle-tumor",
   "metadata": {},
   "outputs": [],
   "source": []
  }
 ],
 "metadata": {
  "kernelspec": {
   "display_name": "Python 3",
   "language": "python",
   "name": "python3"
  },
  "language_info": {
   "codemirror_mode": {
    "name": "ipython",
    "version": 3
   },
   "file_extension": ".py",
   "mimetype": "text/x-python",
   "name": "python",
   "nbconvert_exporter": "python",
   "pygments_lexer": "ipython3",
   "version": "3.7.6"
  }
 },
 "nbformat": 4,
 "nbformat_minor": 5
}
